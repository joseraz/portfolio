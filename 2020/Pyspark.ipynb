{
 "cells": [
  {
   "cell_type": "markdown",
   "metadata": {
    "deletable": true,
    "editable": true
   },
   "source": [
    "# Learning to use pyspark\n",
    "\n",
    "_2020-06-15_\n",
    "\n",
    "* Jose RazGuzman\n",
    "\n",
    "---"
   ]
  },
  {
   "cell_type": "markdown",
   "metadata": {
    "deletable": true,
    "editable": true
   },
   "source": [
    "# Setup"
   ]
  },
  {
   "cell_type": "code",
   "execution_count": 1,
   "metadata": {
    "collapsed": false,
    "deletable": true,
    "editable": true
   },
   "outputs": [],
   "source": [
    "# Init pyspark\n",
    "from pyspark import SparkContext\n",
    "sc = SparkContext.getOrCreate()\n",
    "# Init sparksql -- Used to format the output nicely!\n",
    "from pyspark.sql import SQLContext\n",
    "sqlContext = SQLContext(sc)\n",
    "\n",
    "rows = sc.textFile(\"/air_transit_2007.csv\")\n",
    "data = rows.map(lambda line: line.split(\",\"))\n",
    "# data.cache()\n",
    "\n",
    "from operator import add\n",
    "header = data.first()"
   ]
  },
  {
   "cell_type": "markdown",
   "metadata": {
    "deletable": true,
    "editable": true
   },
   "source": [
    "## Q1\n",
    "Compute the total number of records."
   ]
  },
  {
   "cell_type": "code",
   "execution_count": 3,
   "metadata": {
    "collapsed": false,
    "deletable": true,
    "editable": true
   },
   "outputs": [
    {
     "name": "stdout",
     "output_type": "stream",
     "text": [
      "The total number of records is:\n",
      "7453215\n"
     ]
    }
   ],
   "source": [
    "# First line filters out the header\n",
    "# Then we use the count function to obtain the number of total records\n",
    "q1 = data.filter(lambda line: line != header)\\\n",
    "          .count()\n",
    "print(\"The total number of records is:\") \n",
    "print(q1)"
   ]
  },
  {
   "cell_type": "markdown",
   "metadata": {
    "deletable": true,
    "editable": true
   },
   "source": [
    "## Q2\n",
    "Find total number of operated flights per month, sorted by the month."
   ]
  },
  {
   "cell_type": "code",
   "execution_count": 4,
   "metadata": {
    "collapsed": false,
    "deletable": true,
    "editable": true,
    "scrolled": true
   },
   "outputs": [
    {
     "name": "stdout",
     "output_type": "stream",
     "text": [
      "+-----+--------------------------------+\n",
      "|Month|Total number of operated flights|\n",
      "+-----+--------------------------------+\n",
      "|    1|                          621559|\n",
      "|    2|                          565604|\n",
      "|    3|                          639209|\n",
      "|    4|                          614648|\n",
      "|    5|                          631609|\n",
      "|    6|                          629280|\n",
      "|    7|                          648560|\n",
      "|    8|                          653279|\n",
      "|    9|                          600187|\n",
      "|   10|                          629992|\n",
      "|   11|                          605149|\n",
      "|   12|                          614139|\n",
      "+-----+--------------------------------+\n",
      "\n"
     ]
    }
   ],
   "source": [
    "# First line filters out the header\n",
    "# Then we map out a count of one for every month, aggregate the count of every month \n",
    "# Sort by the aggregate count by the key which is the month, and collect.\n",
    "q2 = data.filter(lambda line: line != header)\\\n",
    "         .map(lambda x:(int(x[1]), 1))\\\n",
    "         .reduceByKey(add)\\\n",
    "         .sortByKey()\\\n",
    "         .collect()\n",
    "       \n",
    "sqlContext.createDataFrame(q2, ['Month','Total number of operated flights']).show()"
   ]
  },
  {
   "cell_type": "markdown",
   "metadata": {
    "deletable": true,
    "editable": true
   },
   "source": [
    "## Q3\n",
    "Find the plane with the highest number of flights. Each plane has a unique TailNum."
   ]
  },
  {
   "cell_type": "code",
   "execution_count": 6,
   "metadata": {
    "collapsed": false,
    "deletable": true,
    "editable": true
   },
   "outputs": [],
   "source": [
    "# First line filters out the header and Tail number '0' and '000000', under the assumption these are missing values\n",
    "# Then we map out a value of one for every single tail number, aggregate all tuples to get the count of tail numbers\n",
    "# Sort by the aggregate count which is the number of flights and collect.\n",
    "q3 = data.filter(lambda line:(line != header and line[10] !='0' and line[10] !='000000'))\\\n",
    "         .map(lambda x:(x[10], 1))\\\n",
    "         .reduceByKey(add)\\\n",
    "         .sortBy(lambda x: x[1], ascending=False)\\\n",
    "         .take(1)"
   ]
  },
  {
   "cell_type": "code",
   "execution_count": 7,
   "metadata": {
    "collapsed": false,
    "deletable": true,
    "editable": true
   },
   "outputs": [
    {
     "name": "stdout",
     "output_type": "stream",
     "text": [
      "+-----------+-----------------+\n",
      "|Tail Number|Number of flights|\n",
      "+-----------+-----------------+\n",
      "|     N655BR|             4483|\n",
      "+-----------+-----------------+\n",
      "\n"
     ]
    }
   ],
   "source": [
    "sqlContext.createDataFrame(q3, ['Tail Number','Number of flights']).show(n=1)"
   ]
  },
  {
   "cell_type": "markdown",
   "metadata": {
    "deletable": true,
    "editable": true
   },
   "source": [
    "## Q4\n",
    "Compute the total flight time of each airplane, sorted by flight time in descending order."
   ]
  },
  {
   "cell_type": "code",
   "execution_count": 8,
   "metadata": {
    "collapsed": false,
    "deletable": true,
    "editable": true
   },
   "outputs": [],
   "source": [
    "# First line filters out the header and NA values\n",
    "# Then we map tail number and the air time of each flight\n",
    "# Sort by the aggregate count which is the number of flights and collect\n",
    "# Reduce by adding up all the air time to get total flight time of each airplane and collect\n",
    "q4 = data.filter(lambda line:( line != header and line[13] !='NA'))\\\n",
    "         .map(lambda x:( x[10], int(x[13])) )\\\n",
    "         .reduceByKey(add)\\\n",
    "         .sortBy(lambda x: x[1], ascending=False)\\\n",
    "         .collect()"
   ]
  },
  {
   "cell_type": "code",
   "execution_count": 23,
   "metadata": {
    "collapsed": false,
    "deletable": true,
    "editable": true
   },
   "outputs": [
    {
     "name": "stdout",
     "output_type": "stream",
     "text": [
      "+-----------+-----------------+\n",
      "|Tail Number|Total flight time|\n",
      "+-----------+-----------------+\n",
      "|     N556AS|           532213|\n",
      "|     N557UA|           259376|\n",
      "|     N597UA|           254760|\n",
      "|     N636JB|           254357|\n",
      "|     N637JB|           253562|\n",
      "|     N590NW|           253079|\n",
      "|     N607JB|           252862|\n",
      "|     N590UA|           252847|\n",
      "|     N505UA|           252382|\n",
      "|     N554UA|           252378|\n",
      "|     N558AS|           251992|\n",
      "|     N212UA|           251816|\n",
      "|     N598UA|           250612|\n",
      "|     N624JB|           250327|\n",
      "|     N646JB|           249865|\n",
      "|     N625JB|           249089|\n",
      "|     N543UA|           248784|\n",
      "|     N599JB|           248747|\n",
      "|     N565AS|           248648|\n",
      "|     N640JB|           248571|\n",
      "|     N618JB|           248465|\n",
      "|     N666UA|           248352|\n",
      "|     N595UA|           248135|\n",
      "|     N639JB|           247980|\n",
      "|     N649JB|           247807|\n",
      "|     N645JB|           247465|\n",
      "|     N523JB|           246640|\n",
      "|     N633JB|           246161|\n",
      "|     N585NW|           246109|\n",
      "|     N589UA|           245822|\n",
      "|     N630JB|           245305|\n",
      "|     N560UA|           245271|\n",
      "|     N549UA|           245249|\n",
      "|     N584NW|           245128|\n",
      "|     N582NW|           245074|\n",
      "|     N591NW|           244850|\n",
      "|     N638JB|           244809|\n",
      "|     N632JB|           244725|\n",
      "|     N596UA|           244504|\n",
      "|     N629JB|           244465|\n",
      "|     N593NW|           244278|\n",
      "|     N667UA|           244204|\n",
      "|     N520JB|           244174|\n",
      "|     N641JB|           244069|\n",
      "|     N579JB|           243909|\n",
      "|     N613JB|           243782|\n",
      "|     N621JB|           243761|\n",
      "|     N524JB|           243733|\n",
      "|     N634JB|           243688|\n",
      "|     N665UA|           243387|\n",
      "|     N594NW|           243353|\n",
      "|     N555UA|           243278|\n",
      "|     N669UA|           243114|\n",
      "|     N603JB|           242944|\n",
      "|     N623JB|           242438|\n",
      "|     N608JB|           242115|\n",
      "|     N585JB|           241800|\n",
      "|     N569JB|           241725|\n",
      "|     N551AS|           241721|\n",
      "|     N583NW|           241655|\n",
      "|     N588JB|           241072|\n",
      "|     N589JB|           241019|\n",
      "|     N648JB|           240751|\n",
      "|     N592NW|           240739|\n",
      "|     N588NW|           240652|\n",
      "|     N676UA|           240590|\n",
      "|     N215UA|           240579|\n",
      "|     N672UA|           240453|\n",
      "|     N590JB|           240283|\n",
      "|     N564JB|           239973|\n",
      "|     N606JB|           239938|\n",
      "|     N612JB|           239896|\n",
      "|     N591JB|           239852|\n",
      "|     N587JB|           239470|\n",
      "|     N644JB|           239332|\n",
      "|     N595NW|           239069|\n",
      "|     N587NW|           238791|\n",
      "|     N581JB|           238529|\n",
      "|     N643JB|           238491|\n",
      "|     N547JB|           238312|\n",
      "|     N592JB|           238290|\n",
      "|     N589NW|           237643|\n",
      "|     N615JB|           236937|\n",
      "|     N593JB|           236885|\n",
      "|     N605JB|           236788|\n",
      "|     N504JB|           236729|\n",
      "|     N213UA|           236669|\n",
      "|     N565JB|           236413|\n",
      "|     N627JB|           235867|\n",
      "|     N584JB|           235543|\n",
      "|     N546JB|           235492|\n",
      "|     N668UA|           235458|\n",
      "|     N544UA|           235228|\n",
      "|     N738AL|           235220|\n",
      "|     N596NW|           235203|\n",
      "|     N554JB|           235176|\n",
      "|     N566JB|           235070|\n",
      "|     N582JB|           234961|\n",
      "|     N586JB|           234887|\n",
      "|     N537JB|           234866|\n",
      "+-----------+-----------------+\n",
      "only showing top 100 rows\n",
      "\n"
     ]
    }
   ],
   "source": [
    "sqlContext.createDataFrame(q4,['Tail Number','Total flight time']).show(n=100)"
   ]
  },
  {
   "cell_type": "markdown",
   "metadata": {
    "deletable": true,
    "editable": true
   },
   "source": [
    "## Q5\n",
    "Find the busiest airport (in terms of number of departures + arrivals of all operated flights) for each month"
   ]
  },
  {
   "cell_type": "code",
   "execution_count": 2,
   "metadata": {
    "collapsed": false,
    "deletable": true,
    "editable": true
   },
   "outputs": [],
   "source": [
    "# We begin by combining the departure + arrivals of all operated flight using parallelize\n",
    "# First line filters out the header\n",
    "# Then we map the month with the airport terminal and add a counter of one \n",
    "# We reduce by key to get the total number of flights for each month of arrival\n",
    "# Repeat the last three steps for departures and add to parallelize\n",
    "# We reduce with addition with the key again, this step adds the arrivals + departures\n",
    "# We map to separate the string key, and we map again to separate month and terminal\n",
    "q5 = sc.parallelize(\\\n",
    "    (data.filter(lambda line:( line != header))\\\n",
    "         .map(lambda x: (x[1]+'-'+x[16], 1))\\\n",
    "         .reduceByKey(add)\\\n",
    "         .collect())+\\\n",
    "    (data.filter(lambda line:( line != header))\\\n",
    "         .map(lambda x: (x[1]+'-'+x[17], 1))\\\n",
    "         .reduceByKey(add)\\\n",
    "         .collect()))\\\n",
    "    .reduceByKey(add) \\\n",
    "    .map(lambda x: (x[0].split('-'), x[1]))\\\n",
    "    .map(lambda x: (x[0][0], x[0][1], x[1]))"
   ]
  },
  {
   "cell_type": "markdown",
   "metadata": {
    "deletable": true,
    "editable": true
   },
   "source": [
    "## Method 1"
   ]
  },
  {
   "cell_type": "code",
   "execution_count": 10,
   "metadata": {
    "collapsed": true,
    "deletable": true,
    "editable": true
   },
   "outputs": [],
   "source": [
    "# We define two following functions for getting the max value\n",
    "\n",
    "# seq_op is a Sequential Operation, which aggregates all values of a single partition\n",
    "def seq_op(accumulator, element):\n",
    "    if(accumulator[1] > element[1]):\n",
    "        return accumulator \n",
    "    else: \n",
    "        return element\n",
    "\n",
    "# comb_op is a Combiner Operation, which aggregates all aggregated values from different partitions\n",
    "# In this case: Finding Maximum Marks \n",
    "def comb_op(accumulator1, accumulator2):\n",
    "    if(accumulator1[1] > accumulator2[1]):\n",
    "        return accumulator1 \n",
    "    else:\n",
    "        return accumulator2"
   ]
  },
  {
   "cell_type": "code",
   "execution_count": 11,
   "metadata": {
    "collapsed": false,
    "deletable": true,
    "editable": true
   },
   "outputs": [],
   "source": [
    "# We generate a counter with Zero value, because we are finding Maximum Marks\n",
    "# We map out our key as the month, and airport plus number of flights as a tuple\n",
    "# We aggregate by key using our Sequential operation and Combiner Operation\n",
    "# Map out again to separate the tuple and collect\n",
    "zero_val = ('', 0)\n",
    "q5_max = q5.map(lambda x: (int(x[0]), (x[1], x[2])))\\\n",
    "           .aggregateByKey(zero_val, seq_op, comb_op)\\\n",
    "           .map(lambda x: (x[0], x[1][0], x[1][1]))\\\n",
    "           .collect()"
   ]
  },
  {
   "cell_type": "code",
   "execution_count": 12,
   "metadata": {
    "collapsed": false,
    "deletable": true,
    "editable": true,
    "scrolled": true
   },
   "outputs": [
    {
     "name": "stdout",
     "output_type": "stream",
     "text": [
      "+-----+---------------+-----------------+\n",
      "|Month|Busiest Airport|Number of flights|\n",
      "+-----+---------------+-----------------+\n",
      "|    1|            ATL|            64597|\n",
      "|    2|            ATL|            59558|\n",
      "|    3|            ATL|            68073|\n",
      "|    4|            ATL|            65773|\n",
      "|    5|            ATL|            68350|\n",
      "|    6|            ATL|            71968|\n",
      "|    7|            ATL|            73969|\n",
      "|    8|            ATL|            74569|\n",
      "|    9|            ATL|            68529|\n",
      "|   10|            ATL|            73883|\n",
      "|   11|            ATL|            69358|\n",
      "|   12|            ATL|            69029|\n",
      "+-----+---------------+-----------------+\n",
      "\n"
     ]
    }
   ],
   "source": [
    "sqlContext.createDataFrame(q5_max, ['Month', 'Busiest Airport', 'Number of flights']).show()"
   ]
  },
  {
   "cell_type": "markdown",
   "metadata": {},
   "source": [
    "## Method 2"
   ]
  },
  {
   "cell_type": "code",
   "execution_count": 13,
   "metadata": {
    "collapsed": false
   },
   "outputs": [],
   "source": [
    "max_month = q5.map(lambda x: (int(x[0]), x))\\\n",
    "              .reduceByKey(lambda x1, x2: max(x1, x2, key=lambda x: x[-1]))\\\n",
    "              .sortByKey()\\\n",
    "              .values()"
   ]
  },
  {
   "cell_type": "code",
   "execution_count": 14,
   "metadata": {
    "collapsed": false
   },
   "outputs": [
    {
     "name": "stdout",
     "output_type": "stream",
     "text": [
      "+-----+-------+-------------+\n",
      "|Month|Airport|Total_Flights|\n",
      "+-----+-------+-------------+\n",
      "|    1|    ATL|        64597|\n",
      "|    2|    ATL|        59558|\n",
      "|    3|    ATL|        68073|\n",
      "|    4|    ATL|        65773|\n",
      "|    5|    ATL|        68350|\n",
      "|    6|    ATL|        71968|\n",
      "|    7|    ATL|        73969|\n",
      "|    8|    ATL|        74569|\n",
      "|    9|    ATL|        68529|\n",
      "|   10|    ATL|        73883|\n",
      "|   11|    ATL|        69358|\n",
      "|   12|    ATL|        69029|\n",
      "+-----+-------+-------------+\n",
      "\n"
     ]
    }
   ],
   "source": [
    "sqlContext.createDataFrame(max_month, ['Month','Airport', 'Total_Flights']).show()"
   ]
  },
  {
   "cell_type": "markdown",
   "metadata": {
    "deletable": true,
    "editable": true
   },
   "source": [
    "## Q6\n",
    "Find the airline with highest average delay of each type in March 2007. Note: do not write separate code for each error type. You should compute a single RDD where each row contains the delay type, the airline that is worst regarding that delay type, and its average delay of that type in minutes."
   ]
  },
  {
   "cell_type": "code",
   "execution_count": 20,
   "metadata": {
    "collapsed": true,
    "deletable": true,
    "editable": true
   },
   "outputs": [],
   "source": [
    "# Sequential Operation, which aggregates all values of a single partition\n",
    "def seq_op_2(accumulator, element):\n",
    "    return accumulator[0] + element, accumulator[1] + 1\n",
    "\n",
    "# Combiner Operation, which aggregates all aggregated values from different partitions\n",
    "# In this case: Finding total sum of marks and the number of marks to divide later \n",
    "def comb_op_2(accumulator1, accumulator2):\n",
    "    return accumulator1[0] + accumulator2[0], accumulator1[1] + accumulator2[1]"
   ]
  },
  {
   "cell_type": "code",
   "execution_count": 21,
   "metadata": {
    "collapsed": false,
    "deletable": true,
    "editable": true
   },
   "outputs": [],
   "source": [
    "# We create a counter that has zero with zero values, generate a list with the types of delays, and create an empty list\n",
    "# First line filters out the header and flights that happened in March\n",
    "# We map out the type of delays to the unique carrier code and keep the value of they minute for the type of delay \n",
    "# We aggregate by key using our Sequential operation and Combiner Operation defined above\n",
    "# Map out again to to get the average from the sum of marks and the number of marks for the type of delay\n",
    "# Sort the results to have the worst delay type at the top and we take the first value\n",
    "# We repeat to obtain the worst delay carrier for each delay type\n",
    "counter = (0,0)\n",
    "delays = ['Carrier', 'Weather','NAS','Security', 'Late Aircraft']\n",
    "L=[]\n",
    "for i in range(5):\n",
    "    q = data.filter(lambda line:( line != header and line[1]=='3' ))\\\n",
    "         .map(lambda x:( delays[i]+' - '+x[8], float(x[24+i]) ))\\\n",
    "         .aggregateByKey(counter, seq_op_2, comb_op_2)\\\n",
    "         .mapValues(lambda x: x[0]/x[1])\\\n",
    "         .sortBy(lambda x: x[1], ascending=False)\\\n",
    "         .take(1)\n",
    "    L.extend(q)"
   ]
  },
  {
   "cell_type": "code",
   "execution_count": 22,
   "metadata": {
    "collapsed": false,
    "deletable": true,
    "editable": true
   },
   "outputs": [
    {
     "name": "stdout",
     "output_type": "stream",
     "text": [
      "+--------------------------+--------------------+\n",
      "|Delay Type - Worst Carrier|Avg Delay in Minutes|\n",
      "+--------------------------+--------------------+\n",
      "|              Carrier - EV|   9.288187668673448|\n",
      "|              Weather - OH|  2.9110093084458306|\n",
      "|                  NAS - CO|   6.944122837980939|\n",
      "|             Security - AS| 0.11413628672511922|\n",
      "|        Late Aircraft - B6|   9.577584656877434|\n",
      "+--------------------------+--------------------+\n",
      "\n"
     ]
    }
   ],
   "source": [
    "sqlContext.createDataFrame(L, ['Delay Type - Worst Carrier', 'Avg Delay in Minutes']).show(5)"
   ]
  },
  {
   "cell_type": "markdown",
   "metadata": {
    "deletable": true,
    "editable": true
   },
   "source": [
    "## Q9\n",
    "Assume that a passenger wants to travel from Philadelphia International Airport(airport code: PHL) to Los Angeles International Airport(airport code: LAX), and then go back to Philadelphia(PHL). \n",
    "\n",
    "He departs PHL not earlier than 5:59am(scheduled time), stays at least 3:01 hours in Los Angeles and then arrive at PHL not later than 11pm. \n",
    "\n",
    "Based on the \"scheduled\" times, find which carrier has the highest number of flights with these constraints. Limit your analysis to February 2007 and use scheduled times."
   ]
  },
  {
   "cell_type": "code",
   "execution_count": 24,
   "metadata": {
    "collapsed": false,
    "deletable": true,
    "editable": true
   },
   "outputs": [
    {
     "name": "stdout",
     "output_type": "stream",
     "text": [
      "+-------+-----------------------------------------+\n",
      "|Carrier|Number of flights with travel constraints|\n",
      "+-------+-----------------------------------------+\n",
      "|     US|                                       76|\n",
      "|     WN|                                       56|\n",
      "|     UA|                                       56|\n",
      "+-------+-----------------------------------------+\n",
      "\n"
     ]
    }
   ],
   "source": [
    "# First line filters out the header and Febraury values\n",
    "# For the filtering section we assume that the flight time between both cities is 5 hours\n",
    "# Then we filter flights that go from PHL to LAX between 559am and 1000, otherwise he/she cannot get back in time\n",
    "# Then we filter flights that go from LAX to PHL between 1100am (LAX time) and 1500 (LAX time)\n",
    "# Map out the airlines that satisfy the time constraints and keep a counter of each available flight\n",
    "# Reduce by adding up all the air time to get total number of flights\n",
    "# Sort the values to have the highest number of flights by carrier at the top and collect the RDD.\n",
    "q9 = data.filter(lambda line:(line != header and line[1]=='2' \n",
    "                                             and ((line[16]=='PHL' and line[17]=='LAX' and 559 <= int(line[5]) <= 1000)\n",
    "                                             or (line[16]=='LAX' and line[17]=='PHL' and 1100 <= int(line[5]) <= 1500)))\n",
    "                )\\\n",
    "         .map(lambda x: (x[8], 1))\\\n",
    "         .reduceByKey(add)\\\n",
    "         .sortBy(lambda x: x[1], ascending=False)\\\n",
    "         .collect()\n",
    "sqlContext.createDataFrame(q9, ['Carrier', 'Number of flights with travel constraints']).show()"
   ]
  },
  {
   "cell_type": "code",
   "execution_count": 25,
   "metadata": {
    "collapsed": false,
    "deletable": true,
    "editable": true
   },
   "outputs": [
    {
     "name": "stdout",
     "output_type": "stream",
     "text": [
      "The carrier which has the highest number of flights for the given constraints is US with 76 available flights.\n"
     ]
    }
   ],
   "source": [
    "print(\"The carrier which has the highest number of flights for the given constraints is US with 76 available flights.\")"
   ]
  },
  {
   "cell_type": "markdown",
   "metadata": {
    "deletable": true,
    "editable": true
   },
   "source": [
    "## Q10\n",
    "Generate the `departure flights` board of the Los Angeles Airport at 12 Jan 2007 at 13:00. \n",
    "\n",
    "The board should contain flights with actual departure times between 12:00 and 14:00, sorted by scheduled departure time. \n",
    "\n",
    "The resulting table should at least contain scheduled departure time, actual departure time (if departed), airline code, and \n",
    "destination."
   ]
  },
  {
   "cell_type": "code",
   "execution_count": 26,
   "metadata": {
    "collapsed": true,
    "deletable": true,
    "editable": true
   },
   "outputs": [],
   "source": [
    "# First line filters out the header and January values plus all the flight from the twelve day of the month\n",
    "# Second line continues the filter to only select flight from the Los Angeles Aiport and within the time span of 1200 and 1400\n",
    "# Third line maps requested values, it contains scheduled departure time, actual departure time, airline code, and destination\n",
    "# Fourth line maps two if statement to show which flights have actually departed\n",
    "# If the flight has already passed 1300, it shows actual departure time, if there are 30min to the flight it says 'Boarding' \n",
    "# and if there are more than 30min before the flight it prints out 'On Time'\n",
    "# The query is sorted by scheduled departure time and collected.\n",
    "q10 = data.filter(lambda line:(line != header and line[1]=='1' and line[2]=='12'\n",
    "                                              and line[16]=='LAX' and 1200 <= int(line[5]) <= 1400))\\\n",
    "          .map(lambda x:(x[5],x[4],x[8],x[17]))\\\n",
    "          .map(lambda x:(x[0],x[1],x[2],x[3]) \n",
    "               if int(x[1])<1300\n",
    "               else ( (x[0],'Boarding',x[2],x[3]) \n",
    "                    if int(x[1])<=1330\n",
    "                    else (x[0],'On Time',x[2],x[3]))) \\\n",
    "          .sortBy(lambda x: x[0])\\\n",
    "          .collect()"
   ]
  },
  {
   "cell_type": "code",
   "execution_count": 27,
   "metadata": {
    "collapsed": false,
    "deletable": true,
    "editable": true
   },
   "outputs": [
    {
     "name": "stdout",
     "output_type": "stream",
     "text": [
      "+------------------------+---------------------+-------+-----------+\n",
      "|Scheduled Departure Time|Actual Departure Time|Airline|Destination|\n",
      "+------------------------+---------------------+-------+-----------+\n",
      "|                    1200|                 1256|     WN|        OAK|\n",
      "|                    1200|                 1159|     AA|        JFK|\n",
      "|                    1200|                 1213|     CO|        IAH|\n",
      "|                    1205|                 1206|     AA|        MIA|\n",
      "|                    1211|                 1254|     NW|        MSP|\n",
      "|                    1214|                 1217|     OO|        SAN|\n",
      "|                    1215|                 1213|     WN|        SJC|\n",
      "|                    1215|                 1217|     DL|        ATL|\n",
      "|                    1220|                 1216|     FL|        ATL|\n",
      "|                    1220|                 1215|     MQ|        MRY|\n",
      "|                    1224|                 1224|     OO|        SJC|\n",
      "|                    1224|                 1219|     UA|        SFO|\n",
      "|                    1225|                 1226|     OO|        OAK|\n",
      "|                    1229|                 1229|     OO|        SAN|\n",
      "|                    1229|                 1250|     UA|        DEN|\n",
      "|                    1230|                 1252|     WN|        LAS|\n",
      "|                    1230|                 1243|     NW|        DTW|\n",
      "|                    1231|                 1245|     US|        LAS|\n",
      "|                    1235|                 1247|     WN|        BWI|\n",
      "|                    1235|                 1255|     WN|        MDW|\n",
      "|                    1235|             Boarding|     AS|        SEA|\n",
      "|                    1235|                 1228|     CO|        IAH|\n",
      "|                    1238|                 1241|     OO|        SMX|\n",
      "|                    1240|                 1239|     WN|        ELP|\n",
      "|                    1240|                 1236|     UA|        PDX|\n",
      "|                    1240|                 1246|     UA|        LAS|\n",
      "|                    1240|                 1252|     US|        PHL|\n",
      "|                    1240|                 1254|     AA|        DEN|\n",
      "|                    1244|                 1242|     OO|        MRY|\n",
      "|                    1244|                 1247|     OO|        SBA|\n",
      "|                    1245|             Boarding|     WN|        MCI|\n",
      "|                    1245|                 1253|     UA|        IAD|\n",
      "|                    1245|                 1246|     US|        PHX|\n",
      "|                    1245|                 1248|     US|        PHX|\n",
      "|                    1245|                 1244|     MQ|        SBP|\n",
      "|                    1245|                 1245|     MQ|        SAN|\n",
      "|                    1245|                 1242|     DL|        CVG|\n",
      "|                    1246|                 1236|     AS|        DCA|\n",
      "|                    1250|             Boarding|     OO|        PHX|\n",
      "|                    1250|             Boarding|     NW|        MEM|\n",
      "|                    1250|             Boarding|     AA|        BOS|\n",
      "|                    1250|             Boarding|     AA|        DFW|\n",
      "|                    1255|                 1256|     WN|        SJC|\n",
      "|                    1255|                 1253|     UA|        BOS|\n",
      "|                    1255|             Boarding|     UA|        SFO|\n",
      "|                    1255|              On Time|     MQ|        FAT|\n",
      "|                    1255|              On Time|     AA|        ORD|\n",
      "|                    1255|             Boarding|     AA|        SFO|\n",
      "|                    1259|             Boarding|     OO|        SAN|\n",
      "|                    1259|             Boarding|     DL|        JFK|\n",
      "|                    1300|             Boarding|     WN|        OAK|\n",
      "|                    1300|             Boarding|     OO|        RNO|\n",
      "|                    1300|             Boarding|     UA|        HNL|\n",
      "|                    1300|             Boarding|     UA|        ORD|\n",
      "|                    1300|              On Time|     CO|        EWR|\n",
      "|                    1305|             Boarding|     WN|        ABQ|\n",
      "|                    1310|              On Time|     WN|        PHX|\n",
      "|                    1310|             Boarding|     UA|        DFW|\n",
      "|                    1310|             Boarding|     US|        CLT|\n",
      "|                    1315|              On Time|     OO|        ONT|\n",
      "|                    1315|             Boarding|     UA|        JFK|\n",
      "|                    1315|              On Time|     MQ|        SBA|\n",
      "|                    1319|             Boarding|     OO|        SMF|\n",
      "|                    1320|              On Time|     UA|        LIH|\n",
      "|                    1320|              On Time|     AA|        JFK|\n",
      "|                    1325|              On Time|     MQ|        LAS|\n",
      "|                    1325|             Boarding|     AA|        MIA|\n",
      "|                    1328|             Boarding|     OO|        SBP|\n",
      "|                    1330|             Boarding|     MQ|        SJC|\n",
      "|                    1334|              On Time|     OO|        ABQ|\n",
      "|                    1335|              On Time|     WN|        PHL|\n",
      "|                    1335|              On Time|     WN|        SMF|\n",
      "|                    1335|              On Time|     DL|        SLC|\n",
      "|                    1337|              On Time|     OO|        SGU|\n",
      "|                    1340|              On Time|     WN|        PHX|\n",
      "|                    1340|              On Time|     F9|        SFO|\n",
      "|                    1340|              On Time|     MQ|        SAN|\n",
      "|                    1340|              On Time|     DL|        ATL|\n",
      "|                    1343|              On Time|     OO|        COS|\n",
      "|                    1345|              On Time|     OO|        CLD|\n",
      "|                    1345|              On Time|     OO|        BFL|\n",
      "|                    1345|              On Time|     AA|        AUS|\n",
      "|                    1345|              On Time|     AA|        DFW|\n",
      "|                    1351|              On Time|     UA|        SFO|\n",
      "|                    1355|              On Time|     WN|        RNO|\n",
      "|                    1356|              On Time|     UA|        PHL|\n",
      "|                    1400|              On Time|     WN|        OAK|\n",
      "|                    1400|              On Time|     UA|        ORD|\n",
      "+------------------------+---------------------+-------+-----------+\n",
      "\n"
     ]
    }
   ],
   "source": [
    "sqlContext.createDataFrame(q10, ['Scheduled Departure Time', 'Actual Departure Time', 'Airline', 'Destination']).show(n=100)"
   ]
  }
 ],
 "metadata": {
  "kernelspec": {
   "display_name": "Python 2",
   "language": "python",
   "name": "python2"
  },
  "language_info": {
   "codemirror_mode": {
    "name": "ipython",
    "version": 2
   },
   "file_extension": ".py",
   "mimetype": "text/x-python",
   "name": "python",
   "nbconvert_exporter": "python",
   "pygments_lexer": "ipython2",
   "version": "2.7.12"
  }
 },
 "nbformat": 4,
 "nbformat_minor": 2
}
